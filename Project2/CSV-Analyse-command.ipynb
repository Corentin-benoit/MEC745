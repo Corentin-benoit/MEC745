{
 "cells": [
  {
   "cell_type": "code",
   "execution_count": 1,
   "metadata": {},
   "outputs": [],
   "source": [
    "# Import des paquets requis\n",
    "import numpy as np\n",
    "import pandas as pd\n",
    "from matplotlib import pyplot as plt\n",
    "np.set_printoptions(formatter={'float': lambda x: \"{0:0.6f}\".format(x)})"
   ]
  },
  {
   "cell_type": "code",
   "execution_count": 2,
   "metadata": {},
   "outputs": [
    {
     "data": {
      "text/html": [
       "<div>\n",
       "<style scoped>\n",
       "    .dataframe tbody tr th:only-of-type {\n",
       "        vertical-align: middle;\n",
       "    }\n",
       "\n",
       "    .dataframe tbody tr th {\n",
       "        vertical-align: top;\n",
       "    }\n",
       "\n",
       "    .dataframe thead th {\n",
       "        text-align: right;\n",
       "    }\n",
       "</style>\n",
       "<table border=\"1\" class=\"dataframe\">\n",
       "  <thead>\n",
       "    <tr style=\"text-align: right;\">\n",
       "      <th></th>\n",
       "      <th>vg</th>\n",
       "      <th>vd</th>\n",
       "      <th>vg_gt</th>\n",
       "      <th>vd_gt</th>\n",
       "    </tr>\n",
       "  </thead>\n",
       "  <tbody>\n",
       "    <tr>\n",
       "      <th>0</th>\n",
       "      <td>0.013193</td>\n",
       "      <td>-0.030017</td>\n",
       "      <td>0.0</td>\n",
       "      <td>0.0</td>\n",
       "    </tr>\n",
       "    <tr>\n",
       "      <th>1</th>\n",
       "      <td>0.031466</td>\n",
       "      <td>-0.050756</td>\n",
       "      <td>0.0</td>\n",
       "      <td>0.0</td>\n",
       "    </tr>\n",
       "    <tr>\n",
       "      <th>2</th>\n",
       "      <td>-0.027442</td>\n",
       "      <td>0.058055</td>\n",
       "      <td>0.0</td>\n",
       "      <td>0.0</td>\n",
       "    </tr>\n",
       "    <tr>\n",
       "      <th>3</th>\n",
       "      <td>0.041751</td>\n",
       "      <td>-0.043170</td>\n",
       "      <td>0.0</td>\n",
       "      <td>0.0</td>\n",
       "    </tr>\n",
       "    <tr>\n",
       "      <th>4</th>\n",
       "      <td>0.014340</td>\n",
       "      <td>0.011968</td>\n",
       "      <td>0.0</td>\n",
       "      <td>0.0</td>\n",
       "    </tr>\n",
       "  </tbody>\n",
       "</table>\n",
       "</div>"
      ],
      "text/plain": [
       "         vg        vd  vg_gt  vd_gt\n",
       "0  0.013193 -0.030017    0.0    0.0\n",
       "1  0.031466 -0.050756    0.0    0.0\n",
       "2 -0.027442  0.058055    0.0    0.0\n",
       "3  0.041751 -0.043170    0.0    0.0\n",
       "4  0.014340  0.011968    0.0    0.0"
      ]
     },
     "execution_count": 2,
     "metadata": {},
     "output_type": "execute_result"
    }
   ],
   "source": [
    "# Lecture des données du fichier CSV (roulez le script pour imu et odom)\n",
    "df = pd.read_csv(\"encoders_data.csv\") \n",
    "\n",
    "# Affiche les 5 premières lignes du fichier \n",
    "df.head()"
   ]
  },
  {
   "cell_type": "code",
   "execution_count": 3,
   "metadata": {},
   "outputs": [],
   "source": [
    "# Réparti les données en lectures des capteurs et référence (ground_truth)\n",
    "n, d = df.shape\n",
    "data = df.iloc[:,:int(d/2)].values\n",
    "ground_truth = df.iloc[:,int(d/2):].values"
   ]
  },
  {
   "cell_type": "code",
   "execution_count": 4,
   "metadata": {},
   "outputs": [
    {
     "name": "stdout",
     "output_type": "stream",
     "text": [
      "Variance pour la vitesse de la roue gauche : \u001b[31m0.002072\u001b[0m\n",
      "Variance pour la vitesse de la roue gauche  : 0.00207188799341715\n",
      "Moyenne pour la vitesse de la roue gauche : \u001b[31m0.001283\u001b[0m\n",
      "\n",
      "Variance pour vitesse de la roue droite : \u001b[31m0.001964\u001b[0m\n",
      "Variance pour la vitesse de la roue droite  : 0.0019638318193607386\n",
      "Moyenne pour vitesse de la roue droite : \u001b[31m-0.000428\u001b[0m\n",
      "\n"
     ]
    }
   ],
   "source": [
    "#Liste pour le stockage des résultats \n",
    "list_vg = []\n",
    "list_vd = []\n",
    "variance = []\n",
    "mean = []\n",
    "\n",
    "#On tri les résultats par liste\n",
    "for i in range(0, len(data)):\n",
    "    list_vg.append(data[i][0])\n",
    "    list_vd.append(data[i][1])\n",
    "    \n",
    "# ------------- Vg-------------------------\n",
    "variance_vg = np.var(list_vg)\n",
    "mean_vg = np.mean(list_vg)\n",
    "\n",
    "variance.append(variance_vg)\n",
    "mean.append(mean_vg)\n",
    "\n",
    "print(\"Variance pour la vitesse de la roue gauche : \\033[31m{:.6f}\\033[0m\".format(variance_vg))\n",
    "print(f\"Variance pour la vitesse de la roue gauche  : {variance_vg}\")\n",
    "print(\"Moyenne pour la vitesse de la roue gauche : \\033[31m{:.6f}\\033[0m\\n\".format(mean_vg))\n",
    "\n",
    "# ------------- Vd-------------------------\n",
    "variance_vd = np.var(list_vd)\n",
    "mean_vd = np.mean(list_vd)\n",
    "\n",
    "variance.append(variance_vd)\n",
    "mean.append(mean_vd)\n",
    "\n",
    "print(\"Variance pour vitesse de la roue droite : \\033[31m{:.6f}\\033[0m\".format(variance_vd))\n",
    "print(f\"Variance pour la vitesse de la roue droite  : {variance_vd}\")\n",
    "print(\"Moyenne pour vitesse de la roue droite : \\033[31m{:.6f}\\033[0m\\n\".format(mean_vd))\n"
   ]
  },
  {
   "cell_type": "code",
   "execution_count": 17,
   "metadata": {},
   "outputs": [
    {
     "data": {
      "image/png": "[encoded data removed]",
      "text/plain": [
       "<Figure size 640x480 with 2 Axes>"
      ]
     },
     "metadata": {},
     "output_type": "display_data"
    }
   ],
   "source": [
    "# Affiche les histogrammes des données\n",
    "fig, ax = plt.subplots(2,1)\n",
    "# cpt_plot_x = 0\n",
    "# cpt_plot_y = 0\n",
    "color_graph = [\"r\"]*4\n",
    "\n",
    "# For heading \n",
    "for i in range(int(d/2)):\n",
    "    \n",
    "    # For subplot display\n",
    "    if i == 0:\n",
    "        ax[0].set_title(\"Vg\")\n",
    "        color_graph[0] = \"r\"\n",
    "        count, bins, ignored =  ax[0].hist(data[:,i], 30, density=True)\n",
    "    if i == 1:\n",
    "        ax[1].set_title(\"Vd\")\n",
    "        color_graph[1] = \"b\"\n",
    "        count, bins, ignored =  ax[1].hist(data[:,i], 30, density=True)\n",
    "        \n",
    "    \n",
    "    \n",
    "    #Probleme avec cette ligne \n",
    "    #ax[i//2][i%2].plot(bins, 1/(variance[i] * np.sqrt(2 * np.pi)) * np.exp( - (bins - mean[i])**2 / (2 * variance[i]**2) ),\n",
    "    #         linewidth=2, color=color_graph[i])\n",
    "plt.show()\n",
    "\n"
   ]
  },
  {
   "cell_type": "code",
   "execution_count": null,
   "metadata": {},
   "outputs": [],
   "source": []
  }
 ],
 "metadata": {
  "kernelspec": {
   "display_name": "mecbot",
   "language": "python",
   "name": "mecbot"
  },
  "language_info": {
   "codemirror_mode": {
    "name": "ipython",
    "version": 3
   },
   "file_extension": ".py",
   "mimetype": "text/x-python",
   "name": "python",
   "nbconvert_exporter": "python",
   "pygments_lexer": "ipython3",
   "version": "3.8.16"
  },
  "vscode": {
   "interpreter": {
    "hash": "916dbcbb3f70747c44a77c7bcd40155683ae19c65e1c03b4aa3499c5328201f1"
   }
  }
 },
 "nbformat": 4,
 "nbformat_minor": 2
}
