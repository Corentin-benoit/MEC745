{
 "cells": [
  {
   "cell_type": "code",
   "execution_count": 1,
   "metadata": {},
   "outputs": [],
   "source": [
    "# Insérez ici le numéro de votre équipe\n",
    "VOTRE_NUMERO_EQUIPE = 4"
   ]
  },
  {
   "cell_type": "code",
   "execution_count": 2,
   "metadata": {},
   "outputs": [],
   "source": [
    "# Import des paquets requis et configuration du ROS Master\n",
    "import sys\n",
    "sys.path.append('/opt/ros/noetic/lib/python3/dist-packages/')\n",
    "sys.path.append('/usr/lib/python3/dist-packages')\n",
    "from os import environ\n",
    "environ['ROS_MASTER_URI'] = \"http://localhost:1137{}/\".format(VOTRE_NUMERO_EQUIPE)\n",
    "import rospy\n",
    "from jackal_msgs.msg import Drive"
   ]
  },
  {
   "cell_type": "markdown",
   "metadata": {},
   "source": [
    "### Configuration du script\n",
    "\n",
    "Ajoutez ici les valeurs géométriques du robot"
   ]
  },
  {
   "cell_type": "code",
   "execution_count": 3,
   "metadata": {},
   "outputs": [],
   "source": [
    "# Compléter les variables suivantes avec les dimensions du robot en [m]\n",
    "interwheel_distance = 0.46\n",
    "left_wheel_radius = 0.045\n",
    "right_wheel_radius = 0.045"
   ]
  },
  {
   "cell_type": "code",
   "execution_count": 4,
   "metadata": {},
   "outputs": [
    {
     "name": "stderr",
     "output_type": "stream",
     "text": [
      "WARNING: cannot load logging configuration file, logging is disabled\n"
     ]
    }
   ],
   "source": [
    "# Créer et démarrer un nouveau noeud\n",
    "rospy.init_node('dingo_controller', anonymous=True)"
   ]
  },
  {
   "cell_type": "code",
   "execution_count": 5,
   "metadata": {},
   "outputs": [],
   "source": [
    "# ROS subscribers et publishers\n",
    "cmd_drive_pub = rospy.Publisher('/mobile_manip/dingo_velocity_controller/cmd_drive', Drive, queue_size=1)"
   ]
  },
  {
   "cell_type": "markdown",
   "metadata": {},
   "source": [
    "### Explication du calcul"
   ]
  },
  {
   "cell_type": "markdown",
   "metadata": {},
   "source": [
    "#### A partir des deux equations suivantes\n",
    "\n",
    "vit_lin = (v_d + v_g) / 2\n",
    "\n",
    "vit_ang = (v_d - v_g) / inter_wheel\n",
    "\n",
    "\n",
    "\n",
    "#### On peut isoler les valeurs des vitesses de roues de droite et gauche\n",
    "\n",
    "v_d = vit_lin + (inter_wheel * vit_ang / 2)\n",
    "\n",
    "v_g = vit_lin - (inter_wheel * vit_ang / 2)\n",
    "\n",
    "\n",
    "#### On traduit les vitesse linéaires des rous en vitesses angulaires pour la commande\n",
    "\n",
    "v_d_ang = (vit_lin + (inter_wheel * vit_ang) / 2) / right_wheel_radius\n",
    "\n",
    "v_g_ang = (vit_lin - (inter_wheel * vit_ang) / 2) / left_wheel_radius"
   ]
  },
  {
   "cell_type": "markdown",
   "metadata": {},
   "source": [
    "### Cinématique inverse"
   ]
  },
  {
   "cell_type": "code",
   "execution_count": 6,
   "metadata": {},
   "outputs": [],
   "source": [
    "# Calcule les commandes à envoyer à chaque moteur-roue selon le mouvement désiré\n",
    "def move_robot(linear_vel, angular_vel):\n",
    "\n",
    "    # Tâche 2\n",
    "    # Vous devez compléter ici avec la cinématique inverse en termes de vitesses\n",
    "    # c'est-à-dire obtenir les vitesses des roues à partir des vitesses angulaire (angular_vel) et linéaire (linear_vel) désirées\n",
    "        \n",
    "    vel_left  = (linear_vel-(interwheel_distance*angular_vel/2))/left_wheel_radius\n",
    "    vel_right = (linear_vel+(interwheel_distance*angular_vel/2))/right_wheel_radius\n",
    "    \n",
    "\n",
    "    # Envoi des commandes au roues par topic ROS - ne pas modifier\n",
    "    cmd_drive_msg = Drive()\n",
    "\n",
    "    cmd_drive_msg.drivers[0] = vel_left\n",
    "    cmd_drive_msg.drivers[1] = vel_right\n",
    "\n",
    "    cmd_drive_pub.publish(cmd_drive_msg)"
   ]
  },
  {
   "cell_type": "markdown",
   "metadata": {},
   "source": [
    "### Test et validation"
   ]
  },
  {
   "cell_type": "code",
   "execution_count": 7,
   "metadata": {
    "scrolled": true
   },
   "outputs": [
    {
     "data": {
      "application/vnd.jupyter.widget-view+json": {
       "model_id": "c0356b5be1ff48dfbc53c0824ca62c7d",
       "version_major": 2,
       "version_minor": 0
      },
      "text/plain": [
       "FloatSlider(value=0.0, description='Linear velocity:', max=10.0, min=-10.0, step=0.01)"
      ]
     },
     "metadata": {},
     "output_type": "display_data"
    },
    {
     "data": {
      "application/vnd.jupyter.widget-view+json": {
       "model_id": "fca6e81597aa49209bb96f962dbebe95",
       "version_major": 2,
       "version_minor": 0
      },
      "text/plain": [
       "Output()"
      ]
     },
     "metadata": {},
     "output_type": "display_data"
    },
    {
     "data": {
      "application/vnd.jupyter.widget-view+json": {
       "model_id": "8fb736be77d944d2a44faabf5cea9050",
       "version_major": 2,
       "version_minor": 0
      },
      "text/plain": [
       "FloatSlider(value=0.0, description='Angular velocity:', max=5.0, min=-5.0, step=0.01)"
      ]
     },
     "metadata": {},
     "output_type": "display_data"
    },
    {
     "data": {
      "application/vnd.jupyter.widget-view+json": {
       "model_id": "b38331183b414d3392669c3508b83c39",
       "version_major": 2,
       "version_minor": 0
      },
      "text/plain": [
       "Output()"
      ]
     },
     "metadata": {},
     "output_type": "display_data"
    }
   ],
   "source": [
    "# Création d'une interface minimaliste pour valider la cinématique inverse - ne pas modifier\n",
    "import ipywidgets as widgets\n",
    "float_linear = widgets.FloatSlider(description='Linear velocity:', min=-10.0, max=10.0, step=0.01)\n",
    "float_angular = widgets.FloatSlider(description='Angular velocity:', min=-5.0, max=5.0, step=0.01)\n",
    "output_linear = widgets.Output()\n",
    "output_angular = widgets.Output()\n",
    "\n",
    "display(float_linear, output_linear)\n",
    "display(float_angular, output_angular)\n",
    "\n",
    "def on_value_change(change):\n",
    "    with output_linear:\n",
    "        linear = float_linear.value\n",
    "    with output_angular:\n",
    "        angular = float_angular.value\n",
    "    move_robot(linear, angular)\n",
    "\n",
    "float_linear.observe(on_value_change, names='value')\n",
    "float_angular.observe(on_value_change, names='value')\n",
    "\n",
    "#Ci-dessous des curseurs permettant d'envoyer immédiatement des valeurs de vitesse linéaire et angulaire au Jackal."
   ]
  },
  {
   "cell_type": "code",
   "execution_count": null,
   "metadata": {},
   "outputs": [],
   "source": []
  }
 ],
 "metadata": {
  "kernelspec": {
   "display_name": "Python 3 (ipykernel)",
   "language": "python",
   "name": "python3"
  },
  "language_info": {
   "codemirror_mode": {
    "name": "ipython",
    "version": 3
   },
   "file_extension": ".py",
   "mimetype": "text/x-python",
   "name": "python",
   "nbconvert_exporter": "python",
   "pygments_lexer": "ipython3",
   "version": "3.9.7"
  },
  "vscode": {
   "interpreter": {
    "hash": "916dbcbb3f70747c44a77c7bcd40155683ae19c65e1c03b4aa3499c5328201f1"
   }
  }
 },
 "nbformat": 4,
 "nbformat_minor": 4
}
