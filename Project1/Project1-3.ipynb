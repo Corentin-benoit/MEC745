{
 "cells": [
  {
   "cell_type": "code",
   "execution_count": 1,
   "metadata": {},
   "outputs": [],
   "source": [
    "# Insérez ici le numéro de votre équipe\n",
    "VOTRE_NUMERO_EQUIPE = 4\n",
    "# modifier cette variable selon que vous contrôler la simulation ou le robot réel\n",
    "SIM = False"
   ]
  },
  {
   "cell_type": "code",
   "execution_count": 2,
   "metadata": {},
   "outputs": [],
   "source": [
    "# Import des paquets requis et configuration du ROS Master\n",
    "import sys\n",
    "sys.path.append('/opt/ros/noetic/lib/python3/dist-packages/')\n",
    "sys.path.append('/usr/lib/python3/dist-packages')\n",
    "from os import environ\n",
    "if SIM:\n",
    "    environ['ROS_MASTER_URI'] = \"http://localhost:1137{}/\".format(VOTRE_NUMERO_EQUIPE)\n",
    "else:\n",
    "    environ['ROS_MASTER_URI'] = \"http://cpr-ets05-07:11311/\" # X = votre numéro de Dingo\n",
    "    environ['ROS_IP'] = \"192.168.0.84\" # adresse IP de votre station de travail\n",
    "import rospy\n",
    "from std_msgs.msg import Float32MultiArray\n",
    "from jackal_msgs.msg import Drive\n",
    "from nav_msgs.msg import Odometry\n",
    "from geometry_msgs.msg import Pose\n",
    "from sensor_msgs.msg import Imu"
   ]
  },
  {
   "cell_type": "code",
   "execution_count": 3,
   "metadata": {},
   "outputs": [
    {
     "name": "stderr",
     "output_type": "stream",
     "text": [
      "Failed to load Python extension for LZ4 support. LZ4 compression will not be available.\n"
     ]
    }
   ],
   "source": [
    "# Création d'un nouveau contenant ROSBAG (en écriture)\n",
    "import rosbag\n",
    "\n",
    "if SIM:\n",
    "    test_bag = rosbag.Bag('output_sim.bag', 'w')\n",
    "else:\n",
    "    test_bag = rosbag.Bag('output_real.bag', 'w')"
   ]
  },
  {
   "cell_type": "code",
   "execution_count": 4,
   "metadata": {},
   "outputs": [],
   "source": [
    "# Compléter les variables suivantes avec les dimensions du robot en [m]\n",
    "interwheel_distance = 0.46\n",
    "left_wheel_radius = 0.045\n",
    "right_wheel_radius = 0.045"
   ]
  },
  {
   "cell_type": "code",
   "execution_count": 5,
   "metadata": {},
   "outputs": [
    {
     "name": "stderr",
     "output_type": "stream",
     "text": [
      "WARNING: cannot load logging configuration file, logging is disabled\n"
     ]
    }
   ],
   "source": [
    "# Créer et démarrer un nouveau noeud\n",
    "rospy.init_node('dingo_controller', anonymous=True)"
   ]
  },
  {
   "cell_type": "code",
   "execution_count": 6,
   "metadata": {},
   "outputs": [],
   "source": [
    "# Position subscriber callback\n",
    "pose_msg = Pose()\n",
    "def joint_callback(msg):\n",
    "    global pose_msg\n",
    "    pose_msg  = msg.pose.pose"
   ]
  },
  {
   "cell_type": "code",
   "execution_count": 7,
   "metadata": {},
   "outputs": [],
   "source": [
    "# UMI subscriber callback\n",
    "imu_msg = Imu()\n",
    "def imu_callback(msg):\n",
    "    global imu_msg\n",
    "    imu_msg = msg"
   ]
  },
  {
   "cell_type": "code",
   "execution_count": 8,
   "metadata": {},
   "outputs": [],
   "source": [
    "# ROS subscribers et publishers\n",
    "if SIM:\n",
    "    cmd_drive_pub = rospy.Publisher('/mobile_manip/dingo_velocity_controller/cmd_drive', Drive, queue_size=1)\n",
    "    pose_sub = rospy.Subscriber('/mobile_manip/t265/odom/sample', Odometry, joint_callback)\n",
    "    imu_sub = rospy.Subscriber('/imu/data', Imu, imu_callback)\n",
    "else:\n",
    "    cmd_drive_pub = rospy.Publisher('/mobile_manip/base/dingo_velocity_controller/cmd_drive', Drive, queue_size=1)\n",
    "    pose_sub = rospy.Subscriber('/mobile_manip/t265/odom/sample', Odometry, joint_callback)\n",
    "    imu_sub = rospy.Subscriber('/mobile_manip/base/imu/data', Imu, imu_callback)"
   ]
  },
  {
   "cell_type": "code",
   "execution_count": 9,
   "metadata": {},
   "outputs": [
    {
     "name": "stdout",
     "output_type": "stream",
     "text": [
      "Imu data: \n",
      "Orientation (quaternion):  0.45781312018637765 0.4363733291533301 0.1676766442976508 0.7562208721966961\n",
      "Angular velocity:  0.00047696783440187573 -0.0037464601919054985 -0.001875896006822586\n",
      "Linear acceleration:  -0.08703505247831345 0.08976531028747559 0.031133651733398438\n",
      "Position:  -0.04286426305770874 0.2029949575662613\n"
     ]
    }
   ],
   "source": [
    "# Impression des valeurs UMI et des encodeurs - pour tester\n",
    "print(\"Imu data: \")\n",
    "print(\"Orientation (quaternion): \", \n",
    "    imu_msg.orientation.x, imu_msg.orientation.y, \n",
    "    imu_msg.orientation.z, imu_msg.orientation.w\n",
    ")\n",
    "print(\"Angular velocity: \", \n",
    "    imu_msg.angular_velocity.x, imu_msg.angular_velocity.y, \n",
    "    imu_msg.angular_velocity.z\n",
    ")\n",
    "print(\"Linear acceleration: \", \n",
    "    imu_msg.linear_acceleration.x, imu_msg.linear_acceleration.y, \n",
    "    imu_msg.linear_acceleration.z\n",
    ")\n",
    "print(\"Position: \", \n",
    "    pose_msg.position.x, pose_msg.position.y\n",
    ")"
   ]
  },
  {
   "cell_type": "markdown",
   "metadata": {},
   "source": [
    "# Explication calcul\n",
    "\n",
    "#### On établi la relation entre la vitesse linéaire et angulaire du robot\n",
    "vit_lin = vit_ang * (d/2)\n",
    "\n",
    "vit_lin = vit_ang * 1/2\n",
    "\n",
    "vit_ang = 2 * vit_lin\n",
    "\n",
    "\n",
    "#### À partir des deux equations suivantes\n",
    "\n",
    "vit_lin = (v_d + v_g) / 2\n",
    "\n",
    "vit_ang = (v_d - v_g) / inter_wheel\n",
    "\n",
    "\n",
    "#### On peut isoler les valeurs des vitesses de roues de droite et gauche\n",
    "\n",
    "v_d = vit_lin + (inter_wheel * vit_ang) / 2\n",
    "\n",
    "v_g = vit_lin - (inter_wheel * vit_ang) / 2\n",
    "\n",
    "#### On substitue la vitesse angulaire par la relation trouvée precedemment pour un diamètre de 1\n",
    "\n",
    "v_d = vit_lin + (inter_wheel * 2 * vit_lin) / 2\n",
    "\n",
    "v_d = vit_lin + inter_wheel * vit_lin\n",
    "\n",
    "v_d = vit_lin * (1 + inter_wheel)\n",
    "\n",
    "v_d_ang = vit_lin * (1 + inter_wheel) / right_wheel_radius\n",
    "\n",
    "\n",
    "v_g = vit_lin - (inter_wheel * 2 * vit_lin) / 2\n",
    "\n",
    "v_g = vit_lin - inter_wheel * vit_lin\n",
    "\n",
    "v_g = vit_lin * (1 - inter_wheel)\n",
    "\n",
    "v_g_ang = vit_lin * (1 - inter_wheel) / left_wheel_radius"
   ]
  },
  {
   "cell_type": "code",
   "execution_count": 10,
   "metadata": {},
   "outputs": [
    {
     "name": "stdout",
     "output_type": "stream",
     "text": [
      "Vitesse de droite:  6.488888888888889\n",
      "Vitesse de gauche:  2.4000000000000004\n"
     ]
    }
   ],
   "source": [
    "LINEAR = True\n",
    "# Déterminez les valeurs numériques de vitesse aux roues requises pour touner sur un cercle R=1m\n",
    "\n",
    "cmd_drive_msg = Drive()\n",
    "\n",
    "# Commande de la vitesse lineaire\n",
    "if LINEAR == True:\n",
    "    v = 0.2\n",
    "    cmd_drive_msg.drivers[1] = v*(1+interwheel_distance)/right_wheel_radius\n",
    "    cmd_drive_msg.drivers[0] = v*(1-interwheel_distance)/left_wheel_radius\n",
    "# Commande de la vitesse angulaire\n",
    "else:\n",
    "    w=0.3\n",
    "    cmd_drive_msg.drivers[1] = (w/2)*(1+interwheel_distance)/right_wheel_radius\n",
    "    cmd_drive_msg.drivers[0] = (w/2)*(1-interwheel_distance)/left_wheel_radius\n",
    "    \n",
    "\n",
    "\n",
    "print('Vitesse de droite: ', cmd_drive_msg.drivers[1])\n",
    "print('Vitesse de gauche: ', cmd_drive_msg.drivers[0])\n",
    "\n",
    "#Envoi des commandes au roues par topic ROS\n",
    "cmd_drive_pub.publish(cmd_drive_msg)"
   ]
  },
  {
   "cell_type": "code",
   "execution_count": 11,
   "metadata": {},
   "outputs": [],
   "source": [
    "# Enregistrer la trajectoire pendant 20 secondes\n",
    "start = float(rospy.Time().now().secs)\n",
    "rate = rospy.Rate(50)\n",
    "while (float(rospy.Time().now().secs) - start) < 20:\n",
    "    test_bag.write('/imu', imu_msg, rospy.Time().now())\n",
    "    test_bag.write('/chassis_pose', pose_msg, rospy.Time().now())\n",
    "    rate.sleep()"
   ]
  },
  {
   "cell_type": "code",
   "execution_count": 12,
   "metadata": {},
   "outputs": [],
   "source": [
    "# arrêter le robot\n",
    "cmd_drive_msg = Drive()\n",
    "cmd_drive_msg.drivers[0] = 0.0\n",
    "cmd_drive_msg.drivers[1] = 0.0\n",
    "\n",
    "# Envoi des commandes au roues par topic ROS\n",
    "cmd_drive_pub.publish(cmd_drive_msg)"
   ]
  },
  {
   "cell_type": "code",
   "execution_count": 13,
   "metadata": {},
   "outputs": [],
   "source": [
    "# close the rosbag\n",
    "test_bag.close()"
   ]
  },
  {
   "cell_type": "code",
   "execution_count": null,
   "metadata": {},
   "outputs": [],
   "source": []
  }
 ],
 "metadata": {
  "kernelspec": {
   "display_name": "mecbot",
   "language": "python",
   "name": "mecbot"
  },
  "language_info": {
   "codemirror_mode": {
    "name": "ipython",
    "version": 3
   },
   "file_extension": ".py",
   "mimetype": "text/x-python",
   "name": "python",
   "nbconvert_exporter": "python",
   "pygments_lexer": "ipython3",
   "version": "3.8.16"
  },
  "vscode": {
   "interpreter": {
    "hash": "916dbcbb3f70747c44a77c7bcd40155683ae19c65e1c03b4aa3499c5328201f1"
   }
  }
 },
 "nbformat": 4,
 "nbformat_minor": 4
}
